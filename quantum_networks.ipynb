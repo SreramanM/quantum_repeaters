{
 "cells": [
  {
   "cell_type": "markdown",
   "id": "3004abcd",
   "metadata": {},
   "source": [
    "# Quantum networks in the quantum cloud\n",
    "Suppose, we have different quantum processors (with different parameters) connected through a classical network, then what is the most efficient way to provide link between  any two quantum processors?"
   ]
  },
  {
   "cell_type": "code",
   "execution_count": 33,
   "id": "37f00408",
   "metadata": {},
   "outputs": [],
   "source": [
    "import networkx as nx \n",
    "import math\n",
    "G = nx.Graph()\n",
    "G.add_edge(1,2)\n",
    "G.add_edge(1,3)\n",
    "G.add_edge(2,3)\n",
    "G.add_edge(2,4)\n",
    "G.add_edge(3,5)\n",
    "G.add_edge(4,5)\n",
    "G.add_edge(4,6)\n",
    "G.add_edge(5,6)\n",
    "#nx.draw(G, with_labels=True)\n",
    "num_edges = nx.number_of_edges(G)\n",
    "param_matrix = [[0]*num_edges]*num_edges\n",
    "#define with [distance (km), coupling eff. (%), num_qubits, attenuation length (km)]\n",
    "param_matrix[1][2] = [30, 0.95, 10, 20]\n",
    "param_matrix[1][3] = [30, 0.5, 20, 20]\n",
    "param_matrix[2][3] = [30, 0.2, 30, 20]\n",
    "param_matrix[2][4] = [30, 0.69, 8, 20]\n",
    "param_matrix[3][5] = [30, 0.34, 4, 20]\n",
    "param_matrix[4][5] = [30, 0.67, 5, 20]\n",
    "param_matrix[4][6] = [30, 0.8, 20, 20]\n",
    "param_matrix[5][6] = [30, 0.2, 10, 20]\n",
    "#We could print the list of all paths between two nodes (1,6) in the network using the simple function\n",
    "node_a = 1\n",
    "node_b = 6\n",
    "paths = list(nx.all_simple_paths(G, node_a, node_b, cutoff=None))"
   ]
  },
  {
   "cell_type": "markdown",
   "id": "f0aee6b7",
   "metadata": {},
   "source": [
    "# Entanglement generation (nodes)\n",
    "We could start with entangled link generation between two nodes. \n",
    "Strategy: Try to create entangled pairs between \"m\" qubits. in case, none of them suceed, try again (try \"neg\" times). \n",
    "Probability of getting one pair (prob) = (1-(1-p)**(neg*m))\n",
    "time taken = neg*dist/c (km/s in fiber)"
   ]
  },
  {
   "cell_type": "code",
   "execution_count": 34,
   "id": "fbe816ad",
   "metadata": {},
   "outputs": [],
   "source": [
    "def elink_edges(G, i,j, param):\n",
    "    dist = param[i][j][0]\n",
    "    latt = param[i][j][3]\n",
    "    pc = (param[i][j][1])#coupling efficiency\n",
    "    p = (pc**2)* math.exp(-dist/latt)\n",
    "    num_pairs = math.ceil(param[i][j][2]/len(list(G.edges(i)))) #number of pairs (edges) for one elink\n",
    "    rate = 0\n",
    "    for neg in range(1,10):\n",
    "        prob = (1-(1-p)**(neg*num_pairs)) #probability\n",
    "        time = neg*dist/(2*1e5)\n",
    "        if prob/time > rate:\n",
    "            rate = prob*(1/time)\n",
    "            qubits = num_pairs\n",
    "            prob_max = prob\n",
    "            time_comm = time\n",
    "    return rate, qubits, prob_max, time_comm\n",
    "def rate(links, elink):\n",
    "    t_max = 0\n",
    "    prob = 1\n",
    "    qubits = 0\n",
    "    for var in range(len(links)-1):\n",
    "        prob= prob*elink[links[var]][links[var+1]][2]\n",
    "        if elink[links[var]][links[var+1]][3]> t_max:\n",
    "            time =  elink[links[var]][links[var+1]][3]\n",
    "        qubits = qubits + elink[links[var]][links[var+1]][1]\n",
    "    return qubits/(prob/time), qubits, time\n"
   ]
  },
  {
   "cell_type": "markdown",
   "id": "cee9d531",
   "metadata": {},
   "source": [
    "# Optimization with cost function\n",
    "\n",
    "The optimized path is obtained by calculating by defining a cost function and find the path that yields the minimum cost"
   ]
  },
  {
   "cell_type": "code",
   "execution_count": 35,
   "id": "f31467ab",
   "metadata": {},
   "outputs": [
    {
     "name": "stdout",
     "output_type": "stream",
     "text": [
      "The opimum path to connect nodes 1 and 6 based on the cost function is [1, 2, 4, 6]\n",
      "The total number of qubits utilized 11\n",
      "The total time for Bell-pair generation 0.00015 seconds\n"
     ]
    }
   ],
   "source": [
    "cost = [0]*(len(paths))\n",
    "qubits_tot = [0]*(len(paths))\n",
    "time = [0]*(len(paths))\n",
    "elink = [[0]*num_edges]*num_edges\n",
    "for a in range(len(paths)):\n",
    "    for b in range(len(paths[a])-1):\n",
    "        node_1 = paths[a][b]\n",
    "        node_2 = paths[a][b+1]\n",
    "        elink[node_1][node_2]= elink_edges(G, node_1,node_2, param_matrix)\n",
    "for i in range(len(paths)):\n",
    "    cost[i], qubits_tot[i], time[i] = rate(paths[i], elink)\n",
    "print(\"The opimum path to connect nodes\", node_a, \"and\", node_b, \"based on the cost function is\" ,paths[cost.index(min(cost))])\n",
    "print(\"The total number of qubits utilized\" , qubits_tot[cost.index(min(cost))])\n",
    "print(\"The total time for Bell-pair generation\" , time[cost.index(min(cost))], \"seconds\")"
   ]
  }
 ],
 "metadata": {
  "kernelspec": {
   "display_name": "Python 3 (ipykernel)",
   "language": "python",
   "name": "python3"
  },
  "language_info": {
   "codemirror_mode": {
    "name": "ipython",
    "version": 3
   },
   "file_extension": ".py",
   "mimetype": "text/x-python",
   "name": "python",
   "nbconvert_exporter": "python",
   "pygments_lexer": "ipython3",
   "version": "3.10.4"
  }
 },
 "nbformat": 4,
 "nbformat_minor": 5
}
